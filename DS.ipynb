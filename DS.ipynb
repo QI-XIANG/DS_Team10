{
 "cells": [
  {
   "cell_type": "markdown",
   "metadata": {},
   "source": [
    "# 1. 匯入資料集"
   ]
  },
  {
   "cell_type": "code",
   "execution_count": 1,
   "metadata": {},
   "outputs": [
    {
     "data": {
      "text/html": "<div>\n<style scoped>\n    .dataframe tbody tr th:only-of-type {\n        vertical-align: middle;\n    }\n\n    .dataframe tbody tr th {\n        vertical-align: top;\n    }\n\n    .dataframe thead th {\n        text-align: right;\n    }\n</style>\n<table border=\"1\" class=\"dataframe\">\n  <thead>\n    <tr style=\"text-align: right;\">\n      <th></th>\n      <th>respondent_id</th>\n      <th>h1n1_concern</th>\n      <th>h1n1_knowledge</th>\n      <th>behavioral_antiviral_meds</th>\n      <th>behavioral_avoidance</th>\n      <th>behavioral_face_mask</th>\n      <th>behavioral_wash_hands</th>\n      <th>behavioral_large_gatherings</th>\n      <th>behavioral_outside_home</th>\n      <th>behavioral_touch_face</th>\n      <th>...</th>\n      <th>income_poverty</th>\n      <th>marital_status</th>\n      <th>rent_or_own</th>\n      <th>employment_status</th>\n      <th>hhs_geo_region</th>\n      <th>census_msa</th>\n      <th>household_adults</th>\n      <th>household_children</th>\n      <th>employment_industry</th>\n      <th>employment_occupation</th>\n    </tr>\n  </thead>\n  <tbody>\n    <tr>\n      <th>0</th>\n      <td>0</td>\n      <td>1.0</td>\n      <td>0.0</td>\n      <td>0.0</td>\n      <td>0.0</td>\n      <td>0.0</td>\n      <td>0.0</td>\n      <td>0.0</td>\n      <td>1.0</td>\n      <td>1.0</td>\n      <td>...</td>\n      <td>Below Poverty</td>\n      <td>Not Married</td>\n      <td>Own</td>\n      <td>Not in Labor Force</td>\n      <td>oxchjgsf</td>\n      <td>Non-MSA</td>\n      <td>0.0</td>\n      <td>0.0</td>\n      <td>NaN</td>\n      <td>NaN</td>\n    </tr>\n    <tr>\n      <th>1</th>\n      <td>1</td>\n      <td>3.0</td>\n      <td>2.0</td>\n      <td>0.0</td>\n      <td>1.0</td>\n      <td>0.0</td>\n      <td>1.0</td>\n      <td>0.0</td>\n      <td>1.0</td>\n      <td>1.0</td>\n      <td>...</td>\n      <td>Below Poverty</td>\n      <td>Not Married</td>\n      <td>Rent</td>\n      <td>Employed</td>\n      <td>bhuqouqj</td>\n      <td>MSA, Not Principle  City</td>\n      <td>0.0</td>\n      <td>0.0</td>\n      <td>pxcmvdjn</td>\n      <td>xgwztkwe</td>\n    </tr>\n    <tr>\n      <th>2</th>\n      <td>2</td>\n      <td>1.0</td>\n      <td>1.0</td>\n      <td>0.0</td>\n      <td>1.0</td>\n      <td>0.0</td>\n      <td>0.0</td>\n      <td>0.0</td>\n      <td>0.0</td>\n      <td>0.0</td>\n      <td>...</td>\n      <td>&lt;= $75,000, Above Poverty</td>\n      <td>Not Married</td>\n      <td>Own</td>\n      <td>Employed</td>\n      <td>qufhixun</td>\n      <td>MSA, Not Principle  City</td>\n      <td>2.0</td>\n      <td>0.0</td>\n      <td>rucpziij</td>\n      <td>xtkaffoo</td>\n    </tr>\n    <tr>\n      <th>3</th>\n      <td>3</td>\n      <td>1.0</td>\n      <td>1.0</td>\n      <td>0.0</td>\n      <td>1.0</td>\n      <td>0.0</td>\n      <td>1.0</td>\n      <td>1.0</td>\n      <td>0.0</td>\n      <td>0.0</td>\n      <td>...</td>\n      <td>Below Poverty</td>\n      <td>Not Married</td>\n      <td>Rent</td>\n      <td>Not in Labor Force</td>\n      <td>lrircsnp</td>\n      <td>MSA, Principle City</td>\n      <td>0.0</td>\n      <td>0.0</td>\n      <td>NaN</td>\n      <td>NaN</td>\n    </tr>\n    <tr>\n      <th>4</th>\n      <td>4</td>\n      <td>2.0</td>\n      <td>1.0</td>\n      <td>0.0</td>\n      <td>1.0</td>\n      <td>0.0</td>\n      <td>1.0</td>\n      <td>1.0</td>\n      <td>0.0</td>\n      <td>1.0</td>\n      <td>...</td>\n      <td>&lt;= $75,000, Above Poverty</td>\n      <td>Married</td>\n      <td>Own</td>\n      <td>Employed</td>\n      <td>qufhixun</td>\n      <td>MSA, Not Principle  City</td>\n      <td>1.0</td>\n      <td>0.0</td>\n      <td>wxleyezf</td>\n      <td>emcorrxb</td>\n    </tr>\n    <tr>\n      <th>...</th>\n      <td>...</td>\n      <td>...</td>\n      <td>...</td>\n      <td>...</td>\n      <td>...</td>\n      <td>...</td>\n      <td>...</td>\n      <td>...</td>\n      <td>...</td>\n      <td>...</td>\n      <td>...</td>\n      <td>...</td>\n      <td>...</td>\n      <td>...</td>\n      <td>...</td>\n      <td>...</td>\n      <td>...</td>\n      <td>...</td>\n      <td>...</td>\n      <td>...</td>\n      <td>...</td>\n    </tr>\n    <tr>\n      <th>26702</th>\n      <td>26702</td>\n      <td>2.0</td>\n      <td>0.0</td>\n      <td>0.0</td>\n      <td>1.0</td>\n      <td>0.0</td>\n      <td>0.0</td>\n      <td>0.0</td>\n      <td>1.0</td>\n      <td>0.0</td>\n      <td>...</td>\n      <td>&lt;= $75,000, Above Poverty</td>\n      <td>Not Married</td>\n      <td>Own</td>\n      <td>Not in Labor Force</td>\n      <td>qufhixun</td>\n      <td>Non-MSA</td>\n      <td>0.0</td>\n      <td>0.0</td>\n      <td>NaN</td>\n      <td>NaN</td>\n    </tr>\n    <tr>\n      <th>26703</th>\n      <td>26703</td>\n      <td>1.0</td>\n      <td>2.0</td>\n      <td>0.0</td>\n      <td>1.0</td>\n      <td>0.0</td>\n      <td>1.0</td>\n      <td>0.0</td>\n      <td>0.0</td>\n      <td>0.0</td>\n      <td>...</td>\n      <td>&lt;= $75,000, Above Poverty</td>\n      <td>Not Married</td>\n      <td>Rent</td>\n      <td>Employed</td>\n      <td>lzgpxyit</td>\n      <td>MSA, Principle City</td>\n      <td>1.0</td>\n      <td>0.0</td>\n      <td>fcxhlnwr</td>\n      <td>cmhcxjea</td>\n    </tr>\n    <tr>\n      <th>26704</th>\n      <td>26704</td>\n      <td>2.0</td>\n      <td>2.0</td>\n      <td>0.0</td>\n      <td>1.0</td>\n      <td>1.0</td>\n      <td>1.0</td>\n      <td>1.0</td>\n      <td>0.0</td>\n      <td>1.0</td>\n      <td>...</td>\n      <td>NaN</td>\n      <td>Not Married</td>\n      <td>Own</td>\n      <td>NaN</td>\n      <td>lzgpxyit</td>\n      <td>MSA, Not Principle  City</td>\n      <td>0.0</td>\n      <td>0.0</td>\n      <td>NaN</td>\n      <td>NaN</td>\n    </tr>\n    <tr>\n      <th>26705</th>\n      <td>26705</td>\n      <td>1.0</td>\n      <td>1.0</td>\n      <td>0.0</td>\n      <td>0.0</td>\n      <td>0.0</td>\n      <td>0.0</td>\n      <td>0.0</td>\n      <td>0.0</td>\n      <td>NaN</td>\n      <td>...</td>\n      <td>&lt;= $75,000, Above Poverty</td>\n      <td>Married</td>\n      <td>Rent</td>\n      <td>Employed</td>\n      <td>lrircsnp</td>\n      <td>Non-MSA</td>\n      <td>1.0</td>\n      <td>0.0</td>\n      <td>fcxhlnwr</td>\n      <td>haliazsg</td>\n    </tr>\n    <tr>\n      <th>26706</th>\n      <td>26706</td>\n      <td>0.0</td>\n      <td>0.0</td>\n      <td>0.0</td>\n      <td>1.0</td>\n      <td>0.0</td>\n      <td>0.0</td>\n      <td>0.0</td>\n      <td>0.0</td>\n      <td>0.0</td>\n      <td>...</td>\n      <td>&lt;= $75,000, Above Poverty</td>\n      <td>Married</td>\n      <td>Own</td>\n      <td>Not in Labor Force</td>\n      <td>mlyzmhmf</td>\n      <td>MSA, Principle City</td>\n      <td>1.0</td>\n      <td>0.0</td>\n      <td>NaN</td>\n      <td>NaN</td>\n    </tr>\n  </tbody>\n</table>\n<p>26707 rows × 36 columns</p>\n</div>",
      "text/plain": "       respondent_id  h1n1_concern  h1n1_knowledge  behavioral_antiviral_meds  \\\n0                  0           1.0             0.0                        0.0   \n1                  1           3.0             2.0                        0.0   \n2                  2           1.0             1.0                        0.0   \n3                  3           1.0             1.0                        0.0   \n4                  4           2.0             1.0                        0.0   \n...              ...           ...             ...                        ...   \n26702          26702           2.0             0.0                        0.0   \n26703          26703           1.0             2.0                        0.0   \n26704          26704           2.0             2.0                        0.0   \n26705          26705           1.0             1.0                        0.0   \n26706          26706           0.0             0.0                        0.0   \n\n       behavioral_avoidance  behavioral_face_mask  behavioral_wash_hands  \\\n0                       0.0                   0.0                    0.0   \n1                       1.0                   0.0                    1.0   \n2                       1.0                   0.0                    0.0   \n3                       1.0                   0.0                    1.0   \n4                       1.0                   0.0                    1.0   \n...                     ...                   ...                    ...   \n26702                   1.0                   0.0                    0.0   \n26703                   1.0                   0.0                    1.0   \n26704                   1.0                   1.0                    1.0   \n26705                   0.0                   0.0                    0.0   \n26706                   1.0                   0.0                    0.0   \n\n       behavioral_large_gatherings  behavioral_outside_home  \\\n0                              0.0                      1.0   \n1                              0.0                      1.0   \n2                              0.0                      0.0   \n3                              1.0                      0.0   \n4                              1.0                      0.0   \n...                            ...                      ...   \n26702                          0.0                      1.0   \n26703                          0.0                      0.0   \n26704                          1.0                      0.0   \n26705                          0.0                      0.0   \n26706                          0.0                      0.0   \n\n       behavioral_touch_face  ...             income_poverty  marital_status  \\\n0                        1.0  ...              Below Poverty     Not Married   \n1                        1.0  ...              Below Poverty     Not Married   \n2                        0.0  ...  <= $75,000, Above Poverty     Not Married   \n3                        0.0  ...              Below Poverty     Not Married   \n4                        1.0  ...  <= $75,000, Above Poverty         Married   \n...                      ...  ...                        ...             ...   \n26702                    0.0  ...  <= $75,000, Above Poverty     Not Married   \n26703                    0.0  ...  <= $75,000, Above Poverty     Not Married   \n26704                    1.0  ...                        NaN     Not Married   \n26705                    NaN  ...  <= $75,000, Above Poverty         Married   \n26706                    0.0  ...  <= $75,000, Above Poverty         Married   \n\n       rent_or_own   employment_status  hhs_geo_region  \\\n0              Own  Not in Labor Force        oxchjgsf   \n1             Rent            Employed        bhuqouqj   \n2              Own            Employed        qufhixun   \n3             Rent  Not in Labor Force        lrircsnp   \n4              Own            Employed        qufhixun   \n...            ...                 ...             ...   \n26702          Own  Not in Labor Force        qufhixun   \n26703         Rent            Employed        lzgpxyit   \n26704          Own                 NaN        lzgpxyit   \n26705         Rent            Employed        lrircsnp   \n26706          Own  Not in Labor Force        mlyzmhmf   \n\n                     census_msa  household_adults  household_children  \\\n0                       Non-MSA               0.0                 0.0   \n1      MSA, Not Principle  City               0.0                 0.0   \n2      MSA, Not Principle  City               2.0                 0.0   \n3           MSA, Principle City               0.0                 0.0   \n4      MSA, Not Principle  City               1.0                 0.0   \n...                         ...               ...                 ...   \n26702                   Non-MSA               0.0                 0.0   \n26703       MSA, Principle City               1.0                 0.0   \n26704  MSA, Not Principle  City               0.0                 0.0   \n26705                   Non-MSA               1.0                 0.0   \n26706       MSA, Principle City               1.0                 0.0   \n\n       employment_industry  employment_occupation  \n0                      NaN                    NaN  \n1                 pxcmvdjn               xgwztkwe  \n2                 rucpziij               xtkaffoo  \n3                      NaN                    NaN  \n4                 wxleyezf               emcorrxb  \n...                    ...                    ...  \n26702                  NaN                    NaN  \n26703             fcxhlnwr               cmhcxjea  \n26704                  NaN                    NaN  \n26705             fcxhlnwr               haliazsg  \n26706                  NaN                    NaN  \n\n[26707 rows x 36 columns]"
     },
     "execution_count": 1,
     "metadata": {},
     "output_type": "execute_result"
    }
   ],
   "source": [
    "import pandas as pd\r\n",
    "\r\n",
    "df = pd.read_excel(\"https://qi-xiang.github.io/DS_Team10/training_set_features.xlsx\")\r\n",
    "df"
   ]
  },
  {
   "cell_type": "markdown",
   "metadata": {},
   "source": [
    "# 2. 找出各欄位、欄位值代表意義\r\n",
    "\r\n",
    "* respondent_id : 調查回應編號 \r\n",
    "* h1n1_concern : 對h1n1的擔心程度 (0、1、2、3)\r\n",
    "* h1n1_knowledge: 對h1n1的了解程度 (0、1、2)\r\n",
    "* behavioral_antiviral_meds : 是否有疫苗猶豫 (0、1)\r\n",
    "* behavioral_avoidance : 是否避開公共場所 (0、1)\r\n",
    "* behavioral_face_mask : 是否戴上口罩 (0、1)\r\n",
    "* behavioral_wash_hands : 是否勤洗手 (0、1)\r\n",
    "* behavioral_large_gatherings : 是否傾向參與大型聚會 (0、1)\r\n",
    "* behavioral_outside_home :  是否傾向在戶外 (0、1)\r\n",
    "* behavioral_touch_face : 是否常摸臉 (0、1)\r\n",
    "* doctor_recc_h1n1 : 是否有醫生推薦接種 h1n1疫苗 ()\r\n",
    "* doctor_recc_seasonal : 是否有醫生推薦接種流感疫苗 ()\r\n",
    "* chronic_med_condition : 是否有慢性病\r\n",
    "* child_under_6_months : 是否有6個月以下小孩\r\n",
    "* health_worker : 是否是衛生工作者\r\n",
    "* health_insurance : 是否有健保\r\n",
    "* opinion_h1n1_vacc_effective : 認為 h1n1 疫苗的功效\r\n",
    "* opinion_h1n1_risk : 認為 h1n1 疫苗的風險\r\n",
    "* opinion_h1n1_sick_from_vacc :  認為接種 h1n1 疫苗的風險\r\n",
    "* opinion_seas_vacc_effective : 認為流感疫苗的功效\r\n",
    "* opinion_seas_risk : 認為流感疫苗的風險\r\n",
    "* opinion_seas_sick_from_vacc :  認為接種流感疫苗的風險\r\n",
    "* age_group : 年齡層\r\n",
    "* education  : 教育程度\r\n",
    "* race : 種族\r\n",
    "* sex  : 性別\r\n",
    "* income_poverty :  年收入  \r\n",
    "* marital_status : 婚姻狀況\r\n",
    "* rent_or_own : 租屋或自有宅\r\n",
    "* employment_status : 工作狀況\r\n",
    "* hhs_geo_region : 處在美國衛生及公共服務部劃分的10大區域的何處\r\n",
    "* census_msa : 居住區域 (都會區、都會區主要城市、都會區非主要城市)\r\n",
    "* household_adults : 家中有幾位成人\r\n",
    "* household_children : 家中有幾位小孩\r\n",
    "* ~~employment_industry : 半數為缺失值，直接忽略不計~~\r\n",
    "* ~~employment_occupation : 半數為缺失值，直接忽略不計~~"
   ]
  },
  {
   "cell_type": "markdown",
   "metadata": {},
   "source": [
    "## 2.1 找出各欄位不重複的欄位值"
   ]
  },
  {
   "cell_type": "code",
   "execution_count": 70,
   "metadata": {},
   "outputs": [
    {
     "name": "stdout",
     "output_type": "stream",
     "text": [
      "respondent_id\n",
      "[    0     1     2 ... 26704 26705 26706]\n",
      "\n",
      "h1n1_concern\n",
      "[ 1.  3.  2.  0. nan]\n",
      "\n",
      "h1n1_knowledge\n",
      "[ 0.  2.  1. nan]\n",
      "\n",
      "behavioral_antiviral_meds\n",
      "[ 0.  1. nan]\n",
      "\n",
      "behavioral_avoidance\n",
      "[ 0.  1. nan]\n",
      "\n",
      "behavioral_face_mask\n",
      "[ 0.  1. nan]\n",
      "\n",
      "behavioral_wash_hands\n",
      "[ 0.  1. nan]\n",
      "\n",
      "behavioral_large_gatherings\n",
      "[ 0.  1. nan]\n",
      "\n",
      "behavioral_outside_home\n",
      "[ 1.  0. nan]\n",
      "\n",
      "behavioral_touch_face\n",
      "[ 1.  0. nan]\n",
      "\n",
      "doctor_recc_h1n1\n",
      "[ 0. nan  1.]\n",
      "\n",
      "doctor_recc_seasonal\n",
      "[ 0. nan  1.]\n",
      "\n",
      "chronic_med_condition\n",
      "[ 0.  1. nan]\n",
      "\n",
      "child_under_6_months\n",
      "[ 0.  1. nan]\n",
      "\n",
      "health_worker\n",
      "[ 0.  1. nan]\n",
      "\n",
      "health_insurance\n",
      "[ 1. nan  0.]\n",
      "\n",
      "opinion_h1n1_vacc_effective\n",
      "[ 3.  5.  4.  2.  1. nan]\n",
      "\n",
      "opinion_h1n1_risk\n",
      "[ 1.  4.  3.  2.  5. nan]\n",
      "\n",
      "opinion_h1n1_sick_from_vacc\n",
      "[ 2.  4.  1.  5.  3. nan]\n",
      "\n",
      "opinion_seas_vacc_effective\n",
      "[ 2.  4.  5.  3.  1. nan]\n",
      "\n",
      "opinion_seas_risk\n",
      "[ 1.  2.  4.  3.  5. nan]\n",
      "\n",
      "opinion_seas_sick_from_vacc\n",
      "[ 2.  4.  1.  5. nan  3.]\n",
      "\n",
      "age_group\n",
      "['55 - 64 Years' '35 - 44 Years' '18 - 34 Years' '65+ Years'\n",
      " '45 - 54 Years']\n",
      "\n",
      "education\n",
      "['< 12 Years' '12 Years' 'College Graduate' 'Some College' nan]\n",
      "\n",
      "race\n",
      "['White' 'Black' 'Other or Multiple' 'Hispanic']\n",
      "\n",
      "sex\n",
      "['Female' 'Male']\n",
      "\n",
      "income_poverty\n",
      "['Below Poverty' '<= $75,000, Above Poverty' '> $75,000' nan]\n",
      "\n",
      "marital_status\n",
      "['Not Married' 'Married' nan]\n",
      "\n",
      "rent_or_own\n",
      "['Own' 'Rent' nan]\n",
      "\n",
      "employment_status\n",
      "['Not in Labor Force' 'Employed' 'Unemployed' nan]\n",
      "\n",
      "hhs_geo_region\n",
      "['oxchjgsf' 'bhuqouqj' 'qufhixun' 'lrircsnp' 'atmpeygn' 'lzgpxyit'\n",
      " 'fpwskwrf' 'mlyzmhmf' 'dqpwygqj' 'kbazzjca']\n",
      "\n",
      "census_msa\n",
      "['Non-MSA' 'MSA, Not Principle  City' 'MSA, Principle City']\n",
      "\n",
      "household_adults\n",
      "[ 0.  2.  1.  3. nan]\n",
      "\n",
      "household_children\n",
      "[ 0.  3.  2.  1. nan]\n",
      "\n",
      "employment_industry\n",
      "[nan 'pxcmvdjn' 'rucpziij' 'wxleyezf' 'saaquncn' 'xicduogh' 'ldnlellj'\n",
      " 'wlfvacwt' 'nduyfdeo' 'fcxhlnwr' 'vjjrobsf' 'arjwrbjb' 'atmlpfrs'\n",
      " 'msuufmds' 'xqicxuve' 'phxvnwax' 'dotnnunm' 'mfikgejo' 'cfqqtusy'\n",
      " 'mcubkhph' 'haxffmxo' 'qnlwzans']\n",
      "\n",
      "employment_occupation\n",
      "[nan 'xgwztkwe' 'xtkaffoo' 'emcorrxb' 'vlluhbov' 'xqwwgdyp' 'ccgxvspp'\n",
      " 'qxajmpny' 'kldqjyjy' 'mxkfnird' 'hfxkjkmi' 'bxpfxfdn' 'ukymxvdu'\n",
      " 'cmhcxjea' 'haliazsg' 'dlvbwzss' 'xzmlyyjv' 'oijqvulv' 'rcertsgn'\n",
      " 'tfqavkke' 'hodpvpew' 'uqqtjvyb' 'pvmttkik' 'dcjcmpih']\n",
      "\n"
     ]
    }
   ],
   "source": [
    "for i in df.columns:\r\n",
    "    print(i)\r\n",
    "    print(df[i].unique(),end='\\n\\n')"
   ]
  },
  {
   "cell_type": "markdown",
   "metadata": {},
   "source": [
    "## 2.2 檢視各欄位值的缺失狀況"
   ]
  },
  {
   "cell_type": "code",
   "execution_count": 71,
   "metadata": {},
   "outputs": [
    {
     "data": {
      "text/plain": "respondent_id                      0\nh1n1_concern                      92\nh1n1_knowledge                   116\nbehavioral_antiviral_meds         71\nbehavioral_avoidance             208\nbehavioral_face_mask              19\nbehavioral_wash_hands             42\nbehavioral_large_gatherings       87\nbehavioral_outside_home           82\nbehavioral_touch_face            128\ndoctor_recc_h1n1                2160\ndoctor_recc_seasonal            2160\nchronic_med_condition            971\nchild_under_6_months             820\nhealth_worker                    804\nhealth_insurance               12274\nopinion_h1n1_vacc_effective      391\nopinion_h1n1_risk                388\nopinion_h1n1_sick_from_vacc      395\nopinion_seas_vacc_effective      462\nopinion_seas_risk                514\nopinion_seas_sick_from_vacc      537\nage_group                          0\neducation                       1407\nrace                               0\nsex                                0\nincome_poverty                  4423\nmarital_status                  1408\nrent_or_own                     2042\nemployment_status               1463\nhhs_geo_region                     0\ncensus_msa                         0\nhousehold_adults                 249\nhousehold_children               249\nemployment_industry            13330\nemployment_occupation          13470\ndtype: int64"
     },
     "execution_count": 71,
     "metadata": {},
     "output_type": "execute_result"
    }
   ],
   "source": [
    "df.isnull().sum()"
   ]
  },
  {
   "cell_type": "markdown",
   "metadata": {},
   "source": [
    "## 2.3 填補缺失值\r\n",
    "\r\n",
    "* nominal 資料以 mode 填補\r\n",
    "* numerical 資料以 median 填補"
   ]
  },
  {
   "cell_type": "code",
   "execution_count": 79,
   "metadata": {},
   "outputs": [],
   "source": [
    "for col in df.columns:\r\n",
    "    if df[col].dtypes == 'object':\r\n",
    "        df[col].fillna(value=df[col].mode().max(),inplace=True)\r\n",
    "    if df[col].dtypes != 'object':\r\n",
    "        df[col].fillna(value=df[col].median(),inplace=True)"
   ]
  },
  {
   "cell_type": "code",
   "execution_count": 80,
   "metadata": {},
   "outputs": [
    {
     "data": {
      "text/plain": "respondent_id                  0\nh1n1_concern                   0\nh1n1_knowledge                 0\nbehavioral_antiviral_meds      0\nbehavioral_avoidance           0\nbehavioral_face_mask           0\nbehavioral_wash_hands          0\nbehavioral_large_gatherings    0\nbehavioral_outside_home        0\nbehavioral_touch_face          0\ndoctor_recc_h1n1               0\ndoctor_recc_seasonal           0\nchronic_med_condition          0\nchild_under_6_months           0\nhealth_worker                  0\nhealth_insurance               0\nopinion_h1n1_vacc_effective    0\nopinion_h1n1_risk              0\nopinion_h1n1_sick_from_vacc    0\nopinion_seas_vacc_effective    0\nopinion_seas_risk              0\nopinion_seas_sick_from_vacc    0\nage_group                      0\neducation                      0\nrace                           0\nsex                            0\nincome_poverty                 0\nmarital_status                 0\nrent_or_own                    0\nemployment_status              0\nhhs_geo_region                 0\ncensus_msa                     0\nhousehold_adults               0\nhousehold_children             0\nemployment_industry            0\nemployment_occupation          0\ndtype: int64"
     },
     "execution_count": 80,
     "metadata": {},
     "output_type": "execute_result"
    }
   ],
   "source": [
    "df.isnull().sum()"
   ]
  },
  {
   "cell_type": "markdown",
   "metadata": {},
   "source": [
    "### 目前已經沒有任何缺失值"
   ]
  },
  {
   "cell_type": "code",
   "execution_count": 83,
   "metadata": {},
   "outputs": [
    {
     "name": "stdout",
     "output_type": "stream",
     "text": [
      "<class 'pandas.core.frame.DataFrame'>\n",
      "RangeIndex: 26707 entries, 0 to 26706\n",
      "Data columns (total 34 columns):\n",
      " #   Column                       Non-Null Count  Dtype  \n",
      "---  ------                       --------------  -----  \n",
      " 0   respondent_id                26707 non-null  int64  \n",
      " 1   h1n1_concern                 26707 non-null  float64\n",
      " 2   h1n1_knowledge               26707 non-null  float64\n",
      " 3   behavioral_antiviral_meds    26707 non-null  float64\n",
      " 4   behavioral_avoidance         26707 non-null  float64\n",
      " 5   behavioral_face_mask         26707 non-null  float64\n",
      " 6   behavioral_wash_hands        26707 non-null  float64\n",
      " 7   behavioral_large_gatherings  26707 non-null  float64\n",
      " 8   behavioral_outside_home      26707 non-null  float64\n",
      " 9   behavioral_touch_face        26707 non-null  float64\n",
      " 10  doctor_recc_h1n1             26707 non-null  float64\n",
      " 11  doctor_recc_seasonal         26707 non-null  float64\n",
      " 12  chronic_med_condition        26707 non-null  float64\n",
      " 13  child_under_6_months         26707 non-null  float64\n",
      " 14  health_worker                26707 non-null  float64\n",
      " 15  health_insurance             26707 non-null  float64\n",
      " 16  opinion_h1n1_vacc_effective  26707 non-null  float64\n",
      " 17  opinion_h1n1_risk            26707 non-null  float64\n",
      " 18  opinion_h1n1_sick_from_vacc  26707 non-null  float64\n",
      " 19  opinion_seas_vacc_effective  26707 non-null  float64\n",
      " 20  opinion_seas_risk            26707 non-null  float64\n",
      " 21  opinion_seas_sick_from_vacc  26707 non-null  float64\n",
      " 22  age_group                    26707 non-null  object \n",
      " 23  education                    26707 non-null  object \n",
      " 24  race                         26707 non-null  object \n",
      " 25  sex                          26707 non-null  object \n",
      " 26  income_poverty               26707 non-null  object \n",
      " 27  marital_status               26707 non-null  object \n",
      " 28  rent_or_own                  26707 non-null  object \n",
      " 29  employment_status            26707 non-null  object \n",
      " 30  hhs_geo_region               26707 non-null  object \n",
      " 31  census_msa                   26707 non-null  object \n",
      " 32  household_adults             26707 non-null  float64\n",
      " 33  household_children           26707 non-null  float64\n",
      "dtypes: float64(23), int64(1), object(10)\n",
      "memory usage: 6.9+ MB\n"
     ]
    }
   ],
   "source": [
    "df.info()"
   ]
  },
  {
   "cell_type": "markdown",
   "metadata": {},
   "source": [
    "## 2.4 刪去最後2個欄位\r\n",
    "因為該欄位的意義不明，且在原始資料中就已經有過半資料缺失。"
   ]
  },
  {
   "cell_type": "code",
   "execution_count": 82,
   "metadata": {},
   "outputs": [
    {
     "data": {
      "text/html": "<div>\n<style scoped>\n    .dataframe tbody tr th:only-of-type {\n        vertical-align: middle;\n    }\n\n    .dataframe tbody tr th {\n        vertical-align: top;\n    }\n\n    .dataframe thead th {\n        text-align: right;\n    }\n</style>\n<table border=\"1\" class=\"dataframe\">\n  <thead>\n    <tr style=\"text-align: right;\">\n      <th></th>\n      <th>respondent_id</th>\n      <th>h1n1_concern</th>\n      <th>h1n1_knowledge</th>\n      <th>behavioral_antiviral_meds</th>\n      <th>behavioral_avoidance</th>\n      <th>behavioral_face_mask</th>\n      <th>behavioral_wash_hands</th>\n      <th>behavioral_large_gatherings</th>\n      <th>behavioral_outside_home</th>\n      <th>behavioral_touch_face</th>\n      <th>...</th>\n      <th>race</th>\n      <th>sex</th>\n      <th>income_poverty</th>\n      <th>marital_status</th>\n      <th>rent_or_own</th>\n      <th>employment_status</th>\n      <th>hhs_geo_region</th>\n      <th>census_msa</th>\n      <th>household_adults</th>\n      <th>household_children</th>\n    </tr>\n  </thead>\n  <tbody>\n    <tr>\n      <th>0</th>\n      <td>0</td>\n      <td>1.0</td>\n      <td>0.0</td>\n      <td>0.0</td>\n      <td>0.0</td>\n      <td>0.0</td>\n      <td>0.0</td>\n      <td>0.0</td>\n      <td>1.0</td>\n      <td>1.0</td>\n      <td>...</td>\n      <td>White</td>\n      <td>Female</td>\n      <td>Below Poverty</td>\n      <td>Not Married</td>\n      <td>Own</td>\n      <td>Not in Labor Force</td>\n      <td>oxchjgsf</td>\n      <td>Non-MSA</td>\n      <td>0.0</td>\n      <td>0.0</td>\n    </tr>\n    <tr>\n      <th>1</th>\n      <td>1</td>\n      <td>3.0</td>\n      <td>2.0</td>\n      <td>0.0</td>\n      <td>1.0</td>\n      <td>0.0</td>\n      <td>1.0</td>\n      <td>0.0</td>\n      <td>1.0</td>\n      <td>1.0</td>\n      <td>...</td>\n      <td>White</td>\n      <td>Male</td>\n      <td>Below Poverty</td>\n      <td>Not Married</td>\n      <td>Rent</td>\n      <td>Employed</td>\n      <td>bhuqouqj</td>\n      <td>MSA, Not Principle  City</td>\n      <td>0.0</td>\n      <td>0.0</td>\n    </tr>\n    <tr>\n      <th>2</th>\n      <td>2</td>\n      <td>1.0</td>\n      <td>1.0</td>\n      <td>0.0</td>\n      <td>1.0</td>\n      <td>0.0</td>\n      <td>0.0</td>\n      <td>0.0</td>\n      <td>0.0</td>\n      <td>0.0</td>\n      <td>...</td>\n      <td>White</td>\n      <td>Male</td>\n      <td>&lt;= $75,000, Above Poverty</td>\n      <td>Not Married</td>\n      <td>Own</td>\n      <td>Employed</td>\n      <td>qufhixun</td>\n      <td>MSA, Not Principle  City</td>\n      <td>2.0</td>\n      <td>0.0</td>\n    </tr>\n    <tr>\n      <th>3</th>\n      <td>3</td>\n      <td>1.0</td>\n      <td>1.0</td>\n      <td>0.0</td>\n      <td>1.0</td>\n      <td>0.0</td>\n      <td>1.0</td>\n      <td>1.0</td>\n      <td>0.0</td>\n      <td>0.0</td>\n      <td>...</td>\n      <td>White</td>\n      <td>Female</td>\n      <td>Below Poverty</td>\n      <td>Not Married</td>\n      <td>Rent</td>\n      <td>Not in Labor Force</td>\n      <td>lrircsnp</td>\n      <td>MSA, Principle City</td>\n      <td>0.0</td>\n      <td>0.0</td>\n    </tr>\n    <tr>\n      <th>4</th>\n      <td>4</td>\n      <td>2.0</td>\n      <td>1.0</td>\n      <td>0.0</td>\n      <td>1.0</td>\n      <td>0.0</td>\n      <td>1.0</td>\n      <td>1.0</td>\n      <td>0.0</td>\n      <td>1.0</td>\n      <td>...</td>\n      <td>White</td>\n      <td>Female</td>\n      <td>&lt;= $75,000, Above Poverty</td>\n      <td>Married</td>\n      <td>Own</td>\n      <td>Employed</td>\n      <td>qufhixun</td>\n      <td>MSA, Not Principle  City</td>\n      <td>1.0</td>\n      <td>0.0</td>\n    </tr>\n    <tr>\n      <th>...</th>\n      <td>...</td>\n      <td>...</td>\n      <td>...</td>\n      <td>...</td>\n      <td>...</td>\n      <td>...</td>\n      <td>...</td>\n      <td>...</td>\n      <td>...</td>\n      <td>...</td>\n      <td>...</td>\n      <td>...</td>\n      <td>...</td>\n      <td>...</td>\n      <td>...</td>\n      <td>...</td>\n      <td>...</td>\n      <td>...</td>\n      <td>...</td>\n      <td>...</td>\n      <td>...</td>\n    </tr>\n    <tr>\n      <th>26702</th>\n      <td>26702</td>\n      <td>2.0</td>\n      <td>0.0</td>\n      <td>0.0</td>\n      <td>1.0</td>\n      <td>0.0</td>\n      <td>0.0</td>\n      <td>0.0</td>\n      <td>1.0</td>\n      <td>0.0</td>\n      <td>...</td>\n      <td>White</td>\n      <td>Female</td>\n      <td>&lt;= $75,000, Above Poverty</td>\n      <td>Not Married</td>\n      <td>Own</td>\n      <td>Not in Labor Force</td>\n      <td>qufhixun</td>\n      <td>Non-MSA</td>\n      <td>0.0</td>\n      <td>0.0</td>\n    </tr>\n    <tr>\n      <th>26703</th>\n      <td>26703</td>\n      <td>1.0</td>\n      <td>2.0</td>\n      <td>0.0</td>\n      <td>1.0</td>\n      <td>0.0</td>\n      <td>1.0</td>\n      <td>0.0</td>\n      <td>0.0</td>\n      <td>0.0</td>\n      <td>...</td>\n      <td>White</td>\n      <td>Male</td>\n      <td>&lt;= $75,000, Above Poverty</td>\n      <td>Not Married</td>\n      <td>Rent</td>\n      <td>Employed</td>\n      <td>lzgpxyit</td>\n      <td>MSA, Principle City</td>\n      <td>1.0</td>\n      <td>0.0</td>\n    </tr>\n    <tr>\n      <th>26704</th>\n      <td>26704</td>\n      <td>2.0</td>\n      <td>2.0</td>\n      <td>0.0</td>\n      <td>1.0</td>\n      <td>1.0</td>\n      <td>1.0</td>\n      <td>1.0</td>\n      <td>0.0</td>\n      <td>1.0</td>\n      <td>...</td>\n      <td>White</td>\n      <td>Female</td>\n      <td>&lt;= $75,000, Above Poverty</td>\n      <td>Not Married</td>\n      <td>Own</td>\n      <td>Employed</td>\n      <td>lzgpxyit</td>\n      <td>MSA, Not Principle  City</td>\n      <td>0.0</td>\n      <td>0.0</td>\n    </tr>\n    <tr>\n      <th>26705</th>\n      <td>26705</td>\n      <td>1.0</td>\n      <td>1.0</td>\n      <td>0.0</td>\n      <td>0.0</td>\n      <td>0.0</td>\n      <td>0.0</td>\n      <td>0.0</td>\n      <td>0.0</td>\n      <td>1.0</td>\n      <td>...</td>\n      <td>Hispanic</td>\n      <td>Female</td>\n      <td>&lt;= $75,000, Above Poverty</td>\n      <td>Married</td>\n      <td>Rent</td>\n      <td>Employed</td>\n      <td>lrircsnp</td>\n      <td>Non-MSA</td>\n      <td>1.0</td>\n      <td>0.0</td>\n    </tr>\n    <tr>\n      <th>26706</th>\n      <td>26706</td>\n      <td>0.0</td>\n      <td>0.0</td>\n      <td>0.0</td>\n      <td>1.0</td>\n      <td>0.0</td>\n      <td>0.0</td>\n      <td>0.0</td>\n      <td>0.0</td>\n      <td>0.0</td>\n      <td>...</td>\n      <td>White</td>\n      <td>Male</td>\n      <td>&lt;= $75,000, Above Poverty</td>\n      <td>Married</td>\n      <td>Own</td>\n      <td>Not in Labor Force</td>\n      <td>mlyzmhmf</td>\n      <td>MSA, Principle City</td>\n      <td>1.0</td>\n      <td>0.0</td>\n    </tr>\n  </tbody>\n</table>\n<p>26707 rows × 34 columns</p>\n</div>",
      "text/plain": "       respondent_id  h1n1_concern  h1n1_knowledge  behavioral_antiviral_meds  \\\n0                  0           1.0             0.0                        0.0   \n1                  1           3.0             2.0                        0.0   \n2                  2           1.0             1.0                        0.0   \n3                  3           1.0             1.0                        0.0   \n4                  4           2.0             1.0                        0.0   \n...              ...           ...             ...                        ...   \n26702          26702           2.0             0.0                        0.0   \n26703          26703           1.0             2.0                        0.0   \n26704          26704           2.0             2.0                        0.0   \n26705          26705           1.0             1.0                        0.0   \n26706          26706           0.0             0.0                        0.0   \n\n       behavioral_avoidance  behavioral_face_mask  behavioral_wash_hands  \\\n0                       0.0                   0.0                    0.0   \n1                       1.0                   0.0                    1.0   \n2                       1.0                   0.0                    0.0   \n3                       1.0                   0.0                    1.0   \n4                       1.0                   0.0                    1.0   \n...                     ...                   ...                    ...   \n26702                   1.0                   0.0                    0.0   \n26703                   1.0                   0.0                    1.0   \n26704                   1.0                   1.0                    1.0   \n26705                   0.0                   0.0                    0.0   \n26706                   1.0                   0.0                    0.0   \n\n       behavioral_large_gatherings  behavioral_outside_home  \\\n0                              0.0                      1.0   \n1                              0.0                      1.0   \n2                              0.0                      0.0   \n3                              1.0                      0.0   \n4                              1.0                      0.0   \n...                            ...                      ...   \n26702                          0.0                      1.0   \n26703                          0.0                      0.0   \n26704                          1.0                      0.0   \n26705                          0.0                      0.0   \n26706                          0.0                      0.0   \n\n       behavioral_touch_face  ...      race     sex  \\\n0                        1.0  ...     White  Female   \n1                        1.0  ...     White    Male   \n2                        0.0  ...     White    Male   \n3                        0.0  ...     White  Female   \n4                        1.0  ...     White  Female   \n...                      ...  ...       ...     ...   \n26702                    0.0  ...     White  Female   \n26703                    0.0  ...     White    Male   \n26704                    1.0  ...     White  Female   \n26705                    1.0  ...  Hispanic  Female   \n26706                    0.0  ...     White    Male   \n\n                  income_poverty  marital_status  rent_or_own  \\\n0                  Below Poverty     Not Married          Own   \n1                  Below Poverty     Not Married         Rent   \n2      <= $75,000, Above Poverty     Not Married          Own   \n3                  Below Poverty     Not Married         Rent   \n4      <= $75,000, Above Poverty         Married          Own   \n...                          ...             ...          ...   \n26702  <= $75,000, Above Poverty     Not Married          Own   \n26703  <= $75,000, Above Poverty     Not Married         Rent   \n26704  <= $75,000, Above Poverty     Not Married          Own   \n26705  <= $75,000, Above Poverty         Married         Rent   \n26706  <= $75,000, Above Poverty         Married          Own   \n\n        employment_status  hhs_geo_region                census_msa  \\\n0      Not in Labor Force        oxchjgsf                   Non-MSA   \n1                Employed        bhuqouqj  MSA, Not Principle  City   \n2                Employed        qufhixun  MSA, Not Principle  City   \n3      Not in Labor Force        lrircsnp       MSA, Principle City   \n4                Employed        qufhixun  MSA, Not Principle  City   \n...                   ...             ...                       ...   \n26702  Not in Labor Force        qufhixun                   Non-MSA   \n26703            Employed        lzgpxyit       MSA, Principle City   \n26704            Employed        lzgpxyit  MSA, Not Principle  City   \n26705            Employed        lrircsnp                   Non-MSA   \n26706  Not in Labor Force        mlyzmhmf       MSA, Principle City   \n\n       household_adults  household_children  \n0                   0.0                 0.0  \n1                   0.0                 0.0  \n2                   2.0                 0.0  \n3                   0.0                 0.0  \n4                   1.0                 0.0  \n...                 ...                 ...  \n26702               0.0                 0.0  \n26703               1.0                 0.0  \n26704               0.0                 0.0  \n26705               1.0                 0.0  \n26706               1.0                 0.0  \n\n[26707 rows x 34 columns]"
     },
     "execution_count": 82,
     "metadata": {},
     "output_type": "execute_result"
    }
   ],
   "source": [
    "df = df.drop(columns=['employment_industry', 'employment_occupation'])\r\n",
    "df"
   ]
  },
  {
   "cell_type": "markdown",
   "metadata": {},
   "source": [
    "## 2.5 串接 training data label"
   ]
  },
  {
   "cell_type": "code",
   "execution_count": 86,
   "metadata": {},
   "outputs": [],
   "source": [
    "df_label = pd.read_excel(\"training_set_labels.xlsx\")\r\n",
    "df_label = df_label.drop('respondent_id',axis=1)"
   ]
  },
  {
   "cell_type": "code",
   "execution_count": 87,
   "metadata": {},
   "outputs": [
    {
     "data": {
      "text/html": "<div>\n<style scoped>\n    .dataframe tbody tr th:only-of-type {\n        vertical-align: middle;\n    }\n\n    .dataframe tbody tr th {\n        vertical-align: top;\n    }\n\n    .dataframe thead th {\n        text-align: right;\n    }\n</style>\n<table border=\"1\" class=\"dataframe\">\n  <thead>\n    <tr style=\"text-align: right;\">\n      <th></th>\n      <th>h1n1_vaccine</th>\n      <th>seasonal_vaccine</th>\n    </tr>\n  </thead>\n  <tbody>\n    <tr>\n      <th>0</th>\n      <td>0</td>\n      <td>0</td>\n    </tr>\n    <tr>\n      <th>1</th>\n      <td>0</td>\n      <td>1</td>\n    </tr>\n    <tr>\n      <th>2</th>\n      <td>0</td>\n      <td>0</td>\n    </tr>\n    <tr>\n      <th>3</th>\n      <td>0</td>\n      <td>1</td>\n    </tr>\n    <tr>\n      <th>4</th>\n      <td>0</td>\n      <td>0</td>\n    </tr>\n    <tr>\n      <th>...</th>\n      <td>...</td>\n      <td>...</td>\n    </tr>\n    <tr>\n      <th>26702</th>\n      <td>0</td>\n      <td>0</td>\n    </tr>\n    <tr>\n      <th>26703</th>\n      <td>0</td>\n      <td>0</td>\n    </tr>\n    <tr>\n      <th>26704</th>\n      <td>0</td>\n      <td>1</td>\n    </tr>\n    <tr>\n      <th>26705</th>\n      <td>0</td>\n      <td>0</td>\n    </tr>\n    <tr>\n      <th>26706</th>\n      <td>0</td>\n      <td>0</td>\n    </tr>\n  </tbody>\n</table>\n<p>26707 rows × 2 columns</p>\n</div>",
      "text/plain": "       h1n1_vaccine  seasonal_vaccine\n0                 0                 0\n1                 0                 1\n2                 0                 0\n3                 0                 1\n4                 0                 0\n...             ...               ...\n26702             0                 0\n26703             0                 0\n26704             0                 1\n26705             0                 0\n26706             0                 0\n\n[26707 rows x 2 columns]"
     },
     "execution_count": 87,
     "metadata": {},
     "output_type": "execute_result"
    }
   ],
   "source": [
    "df_label"
   ]
  },
  {
   "cell_type": "code",
   "execution_count": 88,
   "metadata": {},
   "outputs": [
    {
     "data": {
      "text/html": "<div>\n<style scoped>\n    .dataframe tbody tr th:only-of-type {\n        vertical-align: middle;\n    }\n\n    .dataframe tbody tr th {\n        vertical-align: top;\n    }\n\n    .dataframe thead th {\n        text-align: right;\n    }\n</style>\n<table border=\"1\" class=\"dataframe\">\n  <thead>\n    <tr style=\"text-align: right;\">\n      <th></th>\n      <th>respondent_id</th>\n      <th>h1n1_concern</th>\n      <th>h1n1_knowledge</th>\n      <th>behavioral_antiviral_meds</th>\n      <th>behavioral_avoidance</th>\n      <th>behavioral_face_mask</th>\n      <th>behavioral_wash_hands</th>\n      <th>behavioral_large_gatherings</th>\n      <th>behavioral_outside_home</th>\n      <th>behavioral_touch_face</th>\n      <th>...</th>\n      <th>income_poverty</th>\n      <th>marital_status</th>\n      <th>rent_or_own</th>\n      <th>employment_status</th>\n      <th>hhs_geo_region</th>\n      <th>census_msa</th>\n      <th>household_adults</th>\n      <th>household_children</th>\n      <th>h1n1_vaccine</th>\n      <th>seasonal_vaccine</th>\n    </tr>\n  </thead>\n  <tbody>\n    <tr>\n      <th>0</th>\n      <td>0</td>\n      <td>1.0</td>\n      <td>0.0</td>\n      <td>0.0</td>\n      <td>0.0</td>\n      <td>0.0</td>\n      <td>0.0</td>\n      <td>0.0</td>\n      <td>1.0</td>\n      <td>1.0</td>\n      <td>...</td>\n      <td>Below Poverty</td>\n      <td>Not Married</td>\n      <td>Own</td>\n      <td>Not in Labor Force</td>\n      <td>oxchjgsf</td>\n      <td>Non-MSA</td>\n      <td>0.0</td>\n      <td>0.0</td>\n      <td>0</td>\n      <td>0</td>\n    </tr>\n    <tr>\n      <th>1</th>\n      <td>1</td>\n      <td>3.0</td>\n      <td>2.0</td>\n      <td>0.0</td>\n      <td>1.0</td>\n      <td>0.0</td>\n      <td>1.0</td>\n      <td>0.0</td>\n      <td>1.0</td>\n      <td>1.0</td>\n      <td>...</td>\n      <td>Below Poverty</td>\n      <td>Not Married</td>\n      <td>Rent</td>\n      <td>Employed</td>\n      <td>bhuqouqj</td>\n      <td>MSA, Not Principle  City</td>\n      <td>0.0</td>\n      <td>0.0</td>\n      <td>0</td>\n      <td>1</td>\n    </tr>\n    <tr>\n      <th>2</th>\n      <td>2</td>\n      <td>1.0</td>\n      <td>1.0</td>\n      <td>0.0</td>\n      <td>1.0</td>\n      <td>0.0</td>\n      <td>0.0</td>\n      <td>0.0</td>\n      <td>0.0</td>\n      <td>0.0</td>\n      <td>...</td>\n      <td>&lt;= $75,000, Above Poverty</td>\n      <td>Not Married</td>\n      <td>Own</td>\n      <td>Employed</td>\n      <td>qufhixun</td>\n      <td>MSA, Not Principle  City</td>\n      <td>2.0</td>\n      <td>0.0</td>\n      <td>0</td>\n      <td>0</td>\n    </tr>\n    <tr>\n      <th>3</th>\n      <td>3</td>\n      <td>1.0</td>\n      <td>1.0</td>\n      <td>0.0</td>\n      <td>1.0</td>\n      <td>0.0</td>\n      <td>1.0</td>\n      <td>1.0</td>\n      <td>0.0</td>\n      <td>0.0</td>\n      <td>...</td>\n      <td>Below Poverty</td>\n      <td>Not Married</td>\n      <td>Rent</td>\n      <td>Not in Labor Force</td>\n      <td>lrircsnp</td>\n      <td>MSA, Principle City</td>\n      <td>0.0</td>\n      <td>0.0</td>\n      <td>0</td>\n      <td>1</td>\n    </tr>\n    <tr>\n      <th>4</th>\n      <td>4</td>\n      <td>2.0</td>\n      <td>1.0</td>\n      <td>0.0</td>\n      <td>1.0</td>\n      <td>0.0</td>\n      <td>1.0</td>\n      <td>1.0</td>\n      <td>0.0</td>\n      <td>1.0</td>\n      <td>...</td>\n      <td>&lt;= $75,000, Above Poverty</td>\n      <td>Married</td>\n      <td>Own</td>\n      <td>Employed</td>\n      <td>qufhixun</td>\n      <td>MSA, Not Principle  City</td>\n      <td>1.0</td>\n      <td>0.0</td>\n      <td>0</td>\n      <td>0</td>\n    </tr>\n    <tr>\n      <th>...</th>\n      <td>...</td>\n      <td>...</td>\n      <td>...</td>\n      <td>...</td>\n      <td>...</td>\n      <td>...</td>\n      <td>...</td>\n      <td>...</td>\n      <td>...</td>\n      <td>...</td>\n      <td>...</td>\n      <td>...</td>\n      <td>...</td>\n      <td>...</td>\n      <td>...</td>\n      <td>...</td>\n      <td>...</td>\n      <td>...</td>\n      <td>...</td>\n      <td>...</td>\n      <td>...</td>\n    </tr>\n    <tr>\n      <th>26702</th>\n      <td>26702</td>\n      <td>2.0</td>\n      <td>0.0</td>\n      <td>0.0</td>\n      <td>1.0</td>\n      <td>0.0</td>\n      <td>0.0</td>\n      <td>0.0</td>\n      <td>1.0</td>\n      <td>0.0</td>\n      <td>...</td>\n      <td>&lt;= $75,000, Above Poverty</td>\n      <td>Not Married</td>\n      <td>Own</td>\n      <td>Not in Labor Force</td>\n      <td>qufhixun</td>\n      <td>Non-MSA</td>\n      <td>0.0</td>\n      <td>0.0</td>\n      <td>0</td>\n      <td>0</td>\n    </tr>\n    <tr>\n      <th>26703</th>\n      <td>26703</td>\n      <td>1.0</td>\n      <td>2.0</td>\n      <td>0.0</td>\n      <td>1.0</td>\n      <td>0.0</td>\n      <td>1.0</td>\n      <td>0.0</td>\n      <td>0.0</td>\n      <td>0.0</td>\n      <td>...</td>\n      <td>&lt;= $75,000, Above Poverty</td>\n      <td>Not Married</td>\n      <td>Rent</td>\n      <td>Employed</td>\n      <td>lzgpxyit</td>\n      <td>MSA, Principle City</td>\n      <td>1.0</td>\n      <td>0.0</td>\n      <td>0</td>\n      <td>0</td>\n    </tr>\n    <tr>\n      <th>26704</th>\n      <td>26704</td>\n      <td>2.0</td>\n      <td>2.0</td>\n      <td>0.0</td>\n      <td>1.0</td>\n      <td>1.0</td>\n      <td>1.0</td>\n      <td>1.0</td>\n      <td>0.0</td>\n      <td>1.0</td>\n      <td>...</td>\n      <td>&lt;= $75,000, Above Poverty</td>\n      <td>Not Married</td>\n      <td>Own</td>\n      <td>Employed</td>\n      <td>lzgpxyit</td>\n      <td>MSA, Not Principle  City</td>\n      <td>0.0</td>\n      <td>0.0</td>\n      <td>0</td>\n      <td>1</td>\n    </tr>\n    <tr>\n      <th>26705</th>\n      <td>26705</td>\n      <td>1.0</td>\n      <td>1.0</td>\n      <td>0.0</td>\n      <td>0.0</td>\n      <td>0.0</td>\n      <td>0.0</td>\n      <td>0.0</td>\n      <td>0.0</td>\n      <td>1.0</td>\n      <td>...</td>\n      <td>&lt;= $75,000, Above Poverty</td>\n      <td>Married</td>\n      <td>Rent</td>\n      <td>Employed</td>\n      <td>lrircsnp</td>\n      <td>Non-MSA</td>\n      <td>1.0</td>\n      <td>0.0</td>\n      <td>0</td>\n      <td>0</td>\n    </tr>\n    <tr>\n      <th>26706</th>\n      <td>26706</td>\n      <td>0.0</td>\n      <td>0.0</td>\n      <td>0.0</td>\n      <td>1.0</td>\n      <td>0.0</td>\n      <td>0.0</td>\n      <td>0.0</td>\n      <td>0.0</td>\n      <td>0.0</td>\n      <td>...</td>\n      <td>&lt;= $75,000, Above Poverty</td>\n      <td>Married</td>\n      <td>Own</td>\n      <td>Not in Labor Force</td>\n      <td>mlyzmhmf</td>\n      <td>MSA, Principle City</td>\n      <td>1.0</td>\n      <td>0.0</td>\n      <td>0</td>\n      <td>0</td>\n    </tr>\n  </tbody>\n</table>\n<p>26707 rows × 36 columns</p>\n</div>",
      "text/plain": "       respondent_id  h1n1_concern  h1n1_knowledge  behavioral_antiviral_meds  \\\n0                  0           1.0             0.0                        0.0   \n1                  1           3.0             2.0                        0.0   \n2                  2           1.0             1.0                        0.0   \n3                  3           1.0             1.0                        0.0   \n4                  4           2.0             1.0                        0.0   \n...              ...           ...             ...                        ...   \n26702          26702           2.0             0.0                        0.0   \n26703          26703           1.0             2.0                        0.0   \n26704          26704           2.0             2.0                        0.0   \n26705          26705           1.0             1.0                        0.0   \n26706          26706           0.0             0.0                        0.0   \n\n       behavioral_avoidance  behavioral_face_mask  behavioral_wash_hands  \\\n0                       0.0                   0.0                    0.0   \n1                       1.0                   0.0                    1.0   \n2                       1.0                   0.0                    0.0   \n3                       1.0                   0.0                    1.0   \n4                       1.0                   0.0                    1.0   \n...                     ...                   ...                    ...   \n26702                   1.0                   0.0                    0.0   \n26703                   1.0                   0.0                    1.0   \n26704                   1.0                   1.0                    1.0   \n26705                   0.0                   0.0                    0.0   \n26706                   1.0                   0.0                    0.0   \n\n       behavioral_large_gatherings  behavioral_outside_home  \\\n0                              0.0                      1.0   \n1                              0.0                      1.0   \n2                              0.0                      0.0   \n3                              1.0                      0.0   \n4                              1.0                      0.0   \n...                            ...                      ...   \n26702                          0.0                      1.0   \n26703                          0.0                      0.0   \n26704                          1.0                      0.0   \n26705                          0.0                      0.0   \n26706                          0.0                      0.0   \n\n       behavioral_touch_face  ...             income_poverty  marital_status  \\\n0                        1.0  ...              Below Poverty     Not Married   \n1                        1.0  ...              Below Poverty     Not Married   \n2                        0.0  ...  <= $75,000, Above Poverty     Not Married   \n3                        0.0  ...              Below Poverty     Not Married   \n4                        1.0  ...  <= $75,000, Above Poverty         Married   \n...                      ...  ...                        ...             ...   \n26702                    0.0  ...  <= $75,000, Above Poverty     Not Married   \n26703                    0.0  ...  <= $75,000, Above Poverty     Not Married   \n26704                    1.0  ...  <= $75,000, Above Poverty     Not Married   \n26705                    1.0  ...  <= $75,000, Above Poverty         Married   \n26706                    0.0  ...  <= $75,000, Above Poverty         Married   \n\n       rent_or_own   employment_status  hhs_geo_region  \\\n0              Own  Not in Labor Force        oxchjgsf   \n1             Rent            Employed        bhuqouqj   \n2              Own            Employed        qufhixun   \n3             Rent  Not in Labor Force        lrircsnp   \n4              Own            Employed        qufhixun   \n...            ...                 ...             ...   \n26702          Own  Not in Labor Force        qufhixun   \n26703         Rent            Employed        lzgpxyit   \n26704          Own            Employed        lzgpxyit   \n26705         Rent            Employed        lrircsnp   \n26706          Own  Not in Labor Force        mlyzmhmf   \n\n                     census_msa  household_adults  household_children  \\\n0                       Non-MSA               0.0                 0.0   \n1      MSA, Not Principle  City               0.0                 0.0   \n2      MSA, Not Principle  City               2.0                 0.0   \n3           MSA, Principle City               0.0                 0.0   \n4      MSA, Not Principle  City               1.0                 0.0   \n...                         ...               ...                 ...   \n26702                   Non-MSA               0.0                 0.0   \n26703       MSA, Principle City               1.0                 0.0   \n26704  MSA, Not Principle  City               0.0                 0.0   \n26705                   Non-MSA               1.0                 0.0   \n26706       MSA, Principle City               1.0                 0.0   \n\n       h1n1_vaccine  seasonal_vaccine  \n0                 0                 0  \n1                 0                 1  \n2                 0                 0  \n3                 0                 1  \n4                 0                 0  \n...             ...               ...  \n26702             0                 0  \n26703             0                 0  \n26704             0                 1  \n26705             0                 0  \n26706             0                 0  \n\n[26707 rows x 36 columns]"
     },
     "execution_count": 88,
     "metadata": {},
     "output_type": "execute_result"
    }
   ],
   "source": [
    "df_final = pd.concat([df,df_label],axis=1)\r\n",
    "df_final"
   ]
  },
  {
   "cell_type": "code",
   "execution_count": 89,
   "metadata": {},
   "outputs": [
    {
     "name": "stdout",
     "output_type": "stream",
     "text": [
      "<class 'pandas.core.frame.DataFrame'>\n",
      "RangeIndex: 26707 entries, 0 to 26706\n",
      "Data columns (total 36 columns):\n",
      " #   Column                       Non-Null Count  Dtype  \n",
      "---  ------                       --------------  -----  \n",
      " 0   respondent_id                26707 non-null  int64  \n",
      " 1   h1n1_concern                 26707 non-null  float64\n",
      " 2   h1n1_knowledge               26707 non-null  float64\n",
      " 3   behavioral_antiviral_meds    26707 non-null  float64\n",
      " 4   behavioral_avoidance         26707 non-null  float64\n",
      " 5   behavioral_face_mask         26707 non-null  float64\n",
      " 6   behavioral_wash_hands        26707 non-null  float64\n",
      " 7   behavioral_large_gatherings  26707 non-null  float64\n",
      " 8   behavioral_outside_home      26707 non-null  float64\n",
      " 9   behavioral_touch_face        26707 non-null  float64\n",
      " 10  doctor_recc_h1n1             26707 non-null  float64\n",
      " 11  doctor_recc_seasonal         26707 non-null  float64\n",
      " 12  chronic_med_condition        26707 non-null  float64\n",
      " 13  child_under_6_months         26707 non-null  float64\n",
      " 14  health_worker                26707 non-null  float64\n",
      " 15  health_insurance             26707 non-null  float64\n",
      " 16  opinion_h1n1_vacc_effective  26707 non-null  float64\n",
      " 17  opinion_h1n1_risk            26707 non-null  float64\n",
      " 18  opinion_h1n1_sick_from_vacc  26707 non-null  float64\n",
      " 19  opinion_seas_vacc_effective  26707 non-null  float64\n",
      " 20  opinion_seas_risk            26707 non-null  float64\n",
      " 21  opinion_seas_sick_from_vacc  26707 non-null  float64\n",
      " 22  age_group                    26707 non-null  object \n",
      " 23  education                    26707 non-null  object \n",
      " 24  race                         26707 non-null  object \n",
      " 25  sex                          26707 non-null  object \n",
      " 26  income_poverty               26707 non-null  object \n",
      " 27  marital_status               26707 non-null  object \n",
      " 28  rent_or_own                  26707 non-null  object \n",
      " 29  employment_status            26707 non-null  object \n",
      " 30  hhs_geo_region               26707 non-null  object \n",
      " 31  census_msa                   26707 non-null  object \n",
      " 32  household_adults             26707 non-null  float64\n",
      " 33  household_children           26707 non-null  float64\n",
      " 34  h1n1_vaccine                 26707 non-null  int64  \n",
      " 35  seasonal_vaccine             26707 non-null  int64  \n",
      "dtypes: float64(23), int64(3), object(10)\n",
      "memory usage: 7.3+ MB\n"
     ]
    }
   ],
   "source": [
    "df_final.info()"
   ]
  },
  {
   "cell_type": "markdown",
   "metadata": {},
   "source": [
    "# 3. Exploratory Data Analysis and Visualizations"
   ]
  },
  {
   "cell_type": "code",
   "execution_count": null,
   "metadata": {},
   "outputs": [],
   "source": []
  }
 ],
 "metadata": {
  "kernelspec": {
   "display_name": "Python 3.8.8 64-bit (conda)",
   "name": "python388jvsc74a57bd0b3ba2566441a7c06988d0923437866b63cedc61552a5af99d1f4fb67d367b25f"
  },
  "language_info": {
   "codemirror_mode": {
    "name": "ipython",
    "version": 3
   },
   "file_extension": ".py",
   "mimetype": "text/x-python",
   "name": "python",
   "nbconvert_exporter": "python",
   "pygments_lexer": "ipython3",
   "version": "3.8.8"
  },
  "orig_nbformat": 2
 },
 "nbformat": 4,
 "nbformat_minor": 2
}